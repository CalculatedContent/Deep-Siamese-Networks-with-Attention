{
 "cells": [
  {
   "cell_type": "code",
   "execution_count": 93,
   "metadata": {},
   "outputs": [],
   "source": [
    "from keras.models import Model, Sequential, Model\n",
    "from keras.layers import Input, Conv2D, Dense, Flatten, MaxPooling2D, Activation, Lambda\n",
    "from keras.optimizers import SGD\n",
    "from keras.metrics import cosine_proximity"
   ]
  },
  {
   "cell_type": "code",
   "execution_count": 94,
   "metadata": {},
   "outputs": [],
   "source": [
    "def baseNetwork(inp_dim):\n",
    "    embeddingSize = 128\n",
    "    inputShape = (1, inp_dim, 1)\n",
    "    kernelSizeConv1 = (1,10)\n",
    "    kernelSizeConv2 = (1,5)\n",
    "    mPool_PoolSize1 = (1, 100)\n",
    "    mPool_PoolSize2 = (1, 5)\n",
    "    mPoolStride1 = (1, 100)\n",
    "    mPoolStride2 = (1, 4)\n",
    "    optLayersConv1 = 5 ## No of output layers in conv 1\n",
    "    optLayersConv2 = 8 ## No of output layers in conv 2\n",
    "    \n",
    "    convNet = Sequential()\n",
    "    ## Conv layer 1\n",
    "    convNet.add(Conv2D(optLayersConv1, kernel_size = kernelSizeConv1, input_shape = inputShape))\n",
    "    convNet.add(MaxPooling2D(pool_size = mPool_PoolSize1, strides = mPoolStride1))\n",
    "    convNet.add(Activation('relu'))\n",
    "    ## Conv layer 2\n",
    "    convNet.add(Conv2D(optLayersConv2, kernel_size = kernelSizeConv2))\n",
    "    convNet.add(MaxPooling2D(pool_size = mPool_PoolSize2, strides = mPoolStride2))\n",
    "    convNet.add(Activation('relu'))\n",
    "    \n",
    "    convNet.add(Flatten())\n",
    "    convNet.add(Dense(embeddingSize)) \n",
    "    \n",
    "    return convNet"
   ]
  },
  {
   "cell_type": "code",
   "execution_count": 95,
   "metadata": {},
   "outputs": [
    {
     "name": "stdout",
     "output_type": "stream",
     "text": [
      "(5000, 1, 5000, 1)\n",
      "(5000, 1)\n"
     ]
    }
   ],
   "source": [
    "import numpy as np\n",
    "totalSize = 5000\n",
    "batchSize = 50\n",
    "inputDimension = 5000\n",
    "questions = np.random.random((totalSize,inputDimension)).reshape(totalSize, 1, inputDimension, 1)\n",
    "answers = np.random.random((totalSize,inputDimension)).reshape(totalSize, 1, inputDimension, 1)\n",
    "labels = [1 if p>0.5 else -1 for p in np.random.random(totalSize)]\n",
    "#print(questions[0:10])\n",
    "#print(answers[0:10])\n",
    "#print(labels[0:10])\n",
    "print(questions.shape)\n",
    "print(questions.shape[2:])\n",
    "inputQ = Input(shape=questions.shape[1:])\n",
    "inputA = Input(shape=answers.shape[1:])\n",
    "baseNw = baseNetwork(inputDimension)\n",
    "convQues = baseNw(inputQ)\n",
    "convAns = baseNw(inputA)\n",
    "#conv.summary()"
   ]
  },
  {
   "cell_type": "code",
   "execution_count": 96,
   "metadata": {},
   "outputs": [],
   "source": [
    "from keras import backend as K\n",
    "def euclidean_distance(vects):\n",
    "    x, y = vects\n",
    "    return K.sqrt(K.sum(K.square(x - y), axis=1, keepdims=True))\n",
    "\n",
    "\n",
    "def eucl_dist_output_shape(shapes):\n",
    "    shape1, shape2 = shapes\n",
    "    return (shape1[0], 1)\n",
    "#print([inputA, inputQ])\n",
    "distance = Lambda(euclidean_distance, output_shape=eucl_dist_output_shape)([convQues, convAns])\n",
    "#print(distance)"
   ]
  },
  {
   "cell_type": "code",
   "execution_count": 97,
   "metadata": {},
   "outputs": [
    {
     "name": "stdout",
     "output_type": "stream",
     "text": [
      "____________________________________________________________________________________________________\n",
      "Layer (type)                     Output Shape          Param #     Connected to                     \n",
      "====================================================================================================\n",
      "input_21 (InputLayer)            (None, 1, 5000, 1)    0                                            \n",
      "____________________________________________________________________________________________________\n",
      "input_22 (InputLayer)            (None, 1, 5000, 1)    0                                            \n",
      "____________________________________________________________________________________________________\n",
      "sequential_37 (Sequential)       (None, 128)           11655       input_21[0][0]                   \n",
      "                                                                   input_22[0][0]                   \n",
      "____________________________________________________________________________________________________\n",
      "lambda_8 (Lambda)                (None, 1)             0           sequential_37[1][0]              \n",
      "                                                                   sequential_37[2][0]              \n",
      "====================================================================================================\n",
      "Total params: 11,655\n",
      "Trainable params: 11,655\n",
      "Non-trainable params: 0\n",
      "____________________________________________________________________________________________________\n"
     ]
    },
    {
     "name": "stderr",
     "output_type": "stream",
     "text": [
      "/usr/local/lib/python3.5/dist-packages/ipykernel_launcher.py:1: UserWarning: Update your `Model` call to the Keras 2 API: `Model(inputs=[<tf.Tenso..., outputs=Tensor(\"la...)`\n",
      "  \"\"\"Entry point for launching an IPython kernel.\n"
     ]
    }
   ],
   "source": [
    "model = Model(input=[inputQ, inputA], output=distance)\n",
    "#rms = RMSprop()\n",
    "model.compile(loss = cosine_proximity, optimizer=SGD(lr=0.01, momentum=0.05))\n",
    "model.summary()"
   ]
  },
  {
   "cell_type": "code",
   "execution_count": null,
   "metadata": {},
   "outputs": [
    {
     "name": "stdout",
     "output_type": "stream",
     "text": [
      "Epoch 1/10\n",
      "5000/5000 [==============================] - 9s - loss: -0.0088     \n",
      "Epoch 2/10\n",
      "5000/5000 [==============================] - 8s - loss: -0.0088     \n",
      "Epoch 3/10\n",
      "5000/5000 [==============================] - 8s - loss: -0.0088     \n",
      "Epoch 4/10\n",
      " 700/5000 [===>..........................] - ETA: 7s - loss: 0.0086  "
     ]
    }
   ],
   "source": [
    "noEpochs = 10\n",
    "model.fit([questions, answers], labels, batch_size=batchSize, epochs=noEpochs)"
   ]
  },
  {
   "cell_type": "code",
   "execution_count": null,
   "metadata": {
    "collapsed": true
   },
   "outputs": [],
   "source": []
  }
 ],
 "metadata": {
  "kernelspec": {
   "display_name": "Python 3",
   "language": "python",
   "name": "python3"
  },
  "language_info": {
   "codemirror_mode": {
    "name": "ipython",
    "version": 3
   },
   "file_extension": ".py",
   "mimetype": "text/x-python",
   "name": "python",
   "nbconvert_exporter": "python",
   "pygments_lexer": "ipython3",
   "version": "3.5.2"
  }
 },
 "nbformat": 4,
 "nbformat_minor": 2
}
